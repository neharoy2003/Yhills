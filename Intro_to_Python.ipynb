{
 "cells": [
  {
   "cell_type": "markdown",
   "id": "3a233c06",
   "metadata": {},
   "source": [
    "# TYPES OF ANALYTICS "
   ]
  },
  {
   "cell_type": "code",
   "execution_count": null,
   "id": "0d052238",
   "metadata": {},
   "outputs": [],
   "source": [
    "# Descriptive - what happend in past\n",
    "# Diagnostic - why happend\n",
    "# Predictive - what will happen in future\n",
    "# Prescriplitive - Actions to perform"
   ]
  },
  {
   "cell_type": "markdown",
   "id": "3f567c14",
   "metadata": {},
   "source": [
    "# PYTHON -----"
   ]
  },
  {
   "cell_type": "code",
   "execution_count": 1,
   "id": "739cad04",
   "metadata": {},
   "outputs": [
    {
     "name": "stdout",
     "output_type": "stream",
     "text": [
      "Hello World\n"
     ]
    }
   ],
   "source": [
    "print(\"Hello World\")"
   ]
  },
  {
   "cell_type": "code",
   "execution_count": 2,
   "id": "05b40e42",
   "metadata": {},
   "outputs": [
    {
     "name": "stdout",
     "output_type": "stream",
     "text": [
      "Hello\n"
     ]
    }
   ],
   "source": [
    "print(\"Hello\")"
   ]
  },
  {
   "cell_type": "code",
   "execution_count": 3,
   "id": "ef5f561e",
   "metadata": {},
   "outputs": [
    {
     "ename": "NameError",
     "evalue": "name 'Print' is not defined",
     "output_type": "error",
     "traceback": [
      "\u001b[1;31m---------------------------------------------------------------------------\u001b[0m",
      "\u001b[1;31mNameError\u001b[0m                                 Traceback (most recent call last)",
      "Input \u001b[1;32mIn [3]\u001b[0m, in \u001b[0;36m<cell line: 1>\u001b[1;34m()\u001b[0m\n\u001b[1;32m----> 1\u001b[0m \u001b[43mPrint\u001b[49m(\u001b[38;5;124m\"\u001b[39m\u001b[38;5;124mHello\u001b[39m\u001b[38;5;124m\"\u001b[39m)\n",
      "\u001b[1;31mNameError\u001b[0m: name 'Print' is not defined"
     ]
    }
   ],
   "source": [
    "Print(\"Hello\")   #Python is case sensitive"
   ]
  },
  {
   "cell_type": "code",
   "execution_count": 4,
   "id": "e766944c",
   "metadata": {},
   "outputs": [
    {
     "ename": "NameError",
     "evalue": "name 'hello' is not defined",
     "output_type": "error",
     "traceback": [
      "\u001b[1;31m---------------------------------------------------------------------------\u001b[0m",
      "\u001b[1;31mNameError\u001b[0m                                 Traceback (most recent call last)",
      "Input \u001b[1;32mIn [4]\u001b[0m, in \u001b[0;36m<cell line: 1>\u001b[1;34m()\u001b[0m\n\u001b[1;32m----> 1\u001b[0m \u001b[38;5;28mprint\u001b[39m(\u001b[43mhello\u001b[49m)\n",
      "\u001b[1;31mNameError\u001b[0m: name 'hello' is not defined"
     ]
    }
   ],
   "source": [
    "print(hello) #string is written inside inverted comma"
   ]
  },
  {
   "cell_type": "markdown",
   "id": "7553c7a0",
   "metadata": {},
   "source": [
    "# Data Type"
   ]
  },
  {
   "cell_type": "code",
   "execution_count": 5,
   "id": "ed39f6ab",
   "metadata": {},
   "outputs": [
    {
     "data": {
      "text/plain": [
       "int"
      ]
     },
     "execution_count": 5,
     "metadata": {},
     "output_type": "execute_result"
    }
   ],
   "source": [
    "x=10       #integer data type-- numbers wuthout decimal points\n",
    "type(x)"
   ]
  },
  {
   "cell_type": "code",
   "execution_count": 6,
   "id": "4a9ed447",
   "metadata": {},
   "outputs": [
    {
     "data": {
      "text/plain": [
       "float"
      ]
     },
     "execution_count": 6,
     "metadata": {},
     "output_type": "execute_result"
    }
   ],
   "source": [
    "x=10.5   #float data type--- numbers with decimal points\n",
    "type(x)"
   ]
  },
  {
   "cell_type": "code",
   "execution_count": 7,
   "id": "c935da4d",
   "metadata": {},
   "outputs": [
    {
     "data": {
      "text/plain": [
       "str"
      ]
     },
     "execution_count": 7,
     "metadata": {},
     "output_type": "execute_result"
    }
   ],
   "source": [
    "x='hello'   #string data type--always written inside inverted comma\n",
    "type(x)"
   ]
  },
  {
   "cell_type": "code",
   "execution_count": 8,
   "id": "bbfd781c",
   "metadata": {},
   "outputs": [
    {
     "data": {
      "text/plain": [
       "bool"
      ]
     },
     "execution_count": 8,
     "metadata": {},
     "output_type": "execute_result"
    }
   ],
   "source": [
    "x=True     # boolean data type ---- true and false is boolean data type\n",
    "type(x)"
   ]
  },
  {
   "cell_type": "code",
   "execution_count": 9,
   "id": "eda1e49f",
   "metadata": {},
   "outputs": [
    {
     "data": {
      "text/plain": [
       "str"
      ]
     },
     "execution_count": 9,
     "metadata": {},
     "output_type": "execute_result"
    }
   ],
   "source": [
    "x=\"hello\"\n",
    "type(x)"
   ]
  },
  {
   "cell_type": "code",
   "execution_count": 10,
   "id": "1c015566",
   "metadata": {},
   "outputs": [
    {
     "ename": "NameError",
     "evalue": "name 'hello' is not defined",
     "output_type": "error",
     "traceback": [
      "\u001b[1;31m---------------------------------------------------------------------------\u001b[0m",
      "\u001b[1;31mNameError\u001b[0m                                 Traceback (most recent call last)",
      "Input \u001b[1;32mIn [10]\u001b[0m, in \u001b[0;36m<cell line: 1>\u001b[1;34m()\u001b[0m\n\u001b[1;32m----> 1\u001b[0m x\u001b[38;5;241m=\u001b[39m\u001b[43mhello\u001b[49m\n\u001b[0;32m      2\u001b[0m \u001b[38;5;28mtype\u001b[39m(x)\n",
      "\u001b[1;31mNameError\u001b[0m: name 'hello' is not defined"
     ]
    }
   ],
   "source": [
    "x=hello\n",
    "type(x) #string must be enclosed in inverted commas"
   ]
  },
  {
   "cell_type": "markdown",
   "id": "934a0104",
   "metadata": {},
   "source": [
    "# Shortcut Keys"
   ]
  },
  {
   "cell_type": "code",
   "execution_count": null,
   "id": "10434ad3",
   "metadata": {},
   "outputs": [],
   "source": [
    "### Run a cell  -> Shift + Enter\n",
    "### Enter a cell above -> a\n",
    "### enter a cell below -> b\n",
    "### Delete a cell -> x or press d twice\n",
    "### Headings  ->m"
   ]
  },
  {
   "cell_type": "markdown",
   "id": "8e6646b4",
   "metadata": {},
   "source": [
    "# List"
   ]
  },
  {
   "cell_type": "code",
   "execution_count": 11,
   "id": "6b4a29ec",
   "metadata": {},
   "outputs": [
    {
     "data": {
      "text/plain": [
       "[1, 2, 3, 4, 5, 'hi', True, 110.7]"
      ]
     },
     "execution_count": 11,
     "metadata": {},
     "output_type": "execute_result"
    }
   ],
   "source": [
    "sample_list=[1,2,3,4,5,'hi',True,110.7]\n",
    "sample_list"
   ]
  },
  {
   "cell_type": "code",
   "execution_count": null,
   "id": "c231739b",
   "metadata": {},
   "outputs": [],
   "source": [
    "# List is heterogenous =- it allows multiple datatypes"
   ]
  },
  {
   "cell_type": "markdown",
   "id": "d328eb82",
   "metadata": {},
   "source": [
    "# Indexing in List"
   ]
  },
  {
   "cell_type": "code",
   "execution_count": 12,
   "id": "2364e89c",
   "metadata": {},
   "outputs": [
    {
     "data": {
      "text/plain": [
       "1"
      ]
     },
     "execution_count": 12,
     "metadata": {},
     "output_type": "execute_result"
    }
   ],
   "source": [
    "sample_list[0]"
   ]
  },
  {
   "cell_type": "code",
   "execution_count": 14,
   "id": "c9b556cb",
   "metadata": {},
   "outputs": [
    {
     "data": {
      "text/plain": [
       "'hi'"
      ]
     },
     "execution_count": 14,
     "metadata": {},
     "output_type": "execute_result"
    }
   ],
   "source": [
    "sample_list[5]"
   ]
  },
  {
   "cell_type": "code",
   "execution_count": 13,
   "id": "e7a1368c",
   "metadata": {},
   "outputs": [
    {
     "ename": "IndexError",
     "evalue": "list index out of range",
     "output_type": "error",
     "traceback": [
      "\u001b[1;31m---------------------------------------------------------------------------\u001b[0m",
      "\u001b[1;31mIndexError\u001b[0m                                Traceback (most recent call last)",
      "Input \u001b[1;32mIn [13]\u001b[0m, in \u001b[0;36m<cell line: 1>\u001b[1;34m()\u001b[0m\n\u001b[1;32m----> 1\u001b[0m \u001b[43msample_list\u001b[49m\u001b[43m[\u001b[49m\u001b[38;5;241;43m10\u001b[39;49m\u001b[43m]\u001b[49m\n",
      "\u001b[1;31mIndexError\u001b[0m: list index out of range"
     ]
    }
   ],
   "source": [
    "sample_list[10]  #index out of range"
   ]
  },
  {
   "cell_type": "code",
   "execution_count": null,
   "id": "4da698b3",
   "metadata": {},
   "outputs": [],
   "source": [
    "#Index starts from 0"
   ]
  },
  {
   "cell_type": "code",
   "execution_count": 15,
   "id": "98833d31",
   "metadata": {},
   "outputs": [
    {
     "data": {
      "text/plain": [
       "[100, 2, 3, 4, 5, 'hi', True, 110.7]"
      ]
     },
     "execution_count": 15,
     "metadata": {},
     "output_type": "execute_result"
    }
   ],
   "source": [
    "sample_list[0]=100\n",
    "sample_list"
   ]
  },
  {
   "cell_type": "code",
   "execution_count": null,
   "id": "a210c4ad",
   "metadata": {},
   "outputs": [],
   "source": [
    "#List is mutable-make changes\n",
    "#List is written inside square bracket"
   ]
  },
  {
   "cell_type": "markdown",
   "id": "ed521d3f",
   "metadata": {},
   "source": [
    "# Tuple"
   ]
  },
  {
   "cell_type": "code",
   "execution_count": 16,
   "id": "d26aadcf",
   "metadata": {},
   "outputs": [
    {
     "data": {
      "text/plain": [
       "(1, 2, 3, 4, 5, 6, 21.7, 'ji', False)"
      ]
     },
     "execution_count": 16,
     "metadata": {},
     "output_type": "execute_result"
    }
   ],
   "source": [
    "sample_tuple=1,2,3,4,5,6,21.7,'ji',False\n",
    "sample_tuple"
   ]
  },
  {
   "cell_type": "code",
   "execution_count": 17,
   "id": "98182ec2",
   "metadata": {},
   "outputs": [
    {
     "data": {
      "text/plain": [
       "tuple"
      ]
     },
     "execution_count": 17,
     "metadata": {},
     "output_type": "execute_result"
    }
   ],
   "source": [
    "type(sample_tuple)"
   ]
  },
  {
   "cell_type": "code",
   "execution_count": 18,
   "id": "87aa26db",
   "metadata": {},
   "outputs": [
    {
     "data": {
      "text/plain": [
       "tuple"
      ]
     },
     "execution_count": 18,
     "metadata": {},
     "output_type": "execute_result"
    }
   ],
   "source": [
    "sample_tuple=(1,2,3,4,5,6,21.7,'ji',False)\n",
    "type(sample_tuple)"
   ]
  },
  {
   "cell_type": "code",
   "execution_count": null,
   "id": "5b6dd8f2",
   "metadata": {},
   "outputs": [],
   "source": [
    "#Tuple is heterogeneous\n",
    "#Tuple uses paranthesis or without any brackets "
   ]
  },
  {
   "cell_type": "code",
   "execution_count": 19,
   "id": "e2b8ebe3",
   "metadata": {},
   "outputs": [
    {
     "data": {
      "text/plain": [
       "1"
      ]
     },
     "execution_count": 19,
     "metadata": {},
     "output_type": "execute_result"
    }
   ],
   "source": [
    "sample_tuple[0]"
   ]
  },
  {
   "cell_type": "code",
   "execution_count": 20,
   "id": "f975e895",
   "metadata": {},
   "outputs": [
    {
     "ename": "TypeError",
     "evalue": "'tuple' object does not support item assignment",
     "output_type": "error",
     "traceback": [
      "\u001b[1;31m---------------------------------------------------------------------------\u001b[0m",
      "\u001b[1;31mTypeError\u001b[0m                                 Traceback (most recent call last)",
      "Input \u001b[1;32mIn [20]\u001b[0m, in \u001b[0;36m<cell line: 1>\u001b[1;34m()\u001b[0m\n\u001b[1;32m----> 1\u001b[0m sample_tuple[\u001b[38;5;241m0\u001b[39m]\u001b[38;5;241m=\u001b[39m\u001b[38;5;241m100\u001b[39m\n\u001b[0;32m      2\u001b[0m sample_tuple\n",
      "\u001b[1;31mTypeError\u001b[0m: 'tuple' object does not support item assignment"
     ]
    }
   ],
   "source": [
    "sample_tuple[0]=100   #can't make changes\n",
    "sample_tuple"
   ]
  },
  {
   "cell_type": "code",
   "execution_count": null,
   "id": "189f90f7",
   "metadata": {},
   "outputs": [],
   "source": [
    "#Index in tuple starts from 0\n",
    "# Tuple is immutable"
   ]
  },
  {
   "cell_type": "markdown",
   "id": "61f09fd4",
   "metadata": {},
   "source": [
    "# Set"
   ]
  },
  {
   "cell_type": "code",
   "execution_count": 22,
   "id": "2f0e5511",
   "metadata": {},
   "outputs": [
    {
     "data": {
      "text/plain": [
       "{1, 10.5, 1000, 11, 111, 2, 234, 3, 6, 'apple', 'hi'}"
      ]
     },
     "execution_count": 22,
     "metadata": {},
     "output_type": "execute_result"
    }
   ],
   "source": [
    "sample_set={1,1,2,6,3,10.5,11,111,1000,234,\"hi\",\"apple\"}\n",
    "sample_set"
   ]
  },
  {
   "cell_type": "code",
   "execution_count": 23,
   "id": "48275275",
   "metadata": {},
   "outputs": [
    {
     "data": {
      "text/plain": [
       "set"
      ]
     },
     "execution_count": 23,
     "metadata": {},
     "output_type": "execute_result"
    }
   ],
   "source": [
    "type(sample_set)"
   ]
  },
  {
   "cell_type": "code",
   "execution_count": 24,
   "id": "f5622aac",
   "metadata": {},
   "outputs": [
    {
     "ename": "TypeError",
     "evalue": "'set' object is not subscriptable",
     "output_type": "error",
     "traceback": [
      "\u001b[1;31m---------------------------------------------------------------------------\u001b[0m",
      "\u001b[1;31mTypeError\u001b[0m                                 Traceback (most recent call last)",
      "Input \u001b[1;32mIn [24]\u001b[0m, in \u001b[0;36m<cell line: 1>\u001b[1;34m()\u001b[0m\n\u001b[1;32m----> 1\u001b[0m \u001b[43msample_set\u001b[49m\u001b[43m[\u001b[49m\u001b[38;5;241;43m0\u001b[39;49m\u001b[43m]\u001b[49m\n",
      "\u001b[1;31mTypeError\u001b[0m: 'set' object is not subscriptable"
     ]
    }
   ],
   "source": [
    "sample_set[0]"
   ]
  },
  {
   "cell_type": "code",
   "execution_count": 25,
   "id": "2ed65b56",
   "metadata": {},
   "outputs": [
    {
     "ename": "TypeError",
     "evalue": "'set' object is not subscriptable",
     "output_type": "error",
     "traceback": [
      "\u001b[1;31m---------------------------------------------------------------------------\u001b[0m",
      "\u001b[1;31mTypeError\u001b[0m                                 Traceback (most recent call last)",
      "Input \u001b[1;32mIn [25]\u001b[0m, in \u001b[0;36m<cell line: 1>\u001b[1;34m()\u001b[0m\n\u001b[1;32m----> 1\u001b[0m \u001b[43msample_set\u001b[49m\u001b[43m[\u001b[49m\u001b[38;5;241;43m100\u001b[39;49m\u001b[43m]\u001b[49m\n",
      "\u001b[1;31mTypeError\u001b[0m: 'set' object is not subscriptable"
     ]
    }
   ],
   "source": [
    "sample_set[100]"
   ]
  },
  {
   "cell_type": "code",
   "execution_count": 27,
   "id": "48d3f472",
   "metadata": {},
   "outputs": [
    {
     "data": {
      "text/plain": [
       "{1, 10.5, 1000, 11, 111, 14, 2, 234, 3, 6, 'apple', 'hi'}"
      ]
     },
     "execution_count": 27,
     "metadata": {},
     "output_type": "execute_result"
    }
   ],
   "source": [
    "sample_set.add(14)\n",
    "sample_set"
   ]
  },
  {
   "cell_type": "code",
   "execution_count": 28,
   "id": "ed13d9af",
   "metadata": {},
   "outputs": [
    {
     "data": {
      "text/plain": [
       "{1, 10.5, 1000, 11, 111, 2, 234, 3, 6, 'apple', 'hi'}"
      ]
     },
     "execution_count": 28,
     "metadata": {},
     "output_type": "execute_result"
    }
   ],
   "source": [
    "sample_set.remove(14)\n",
    "sample_set"
   ]
  },
  {
   "cell_type": "code",
   "execution_count": null,
   "id": "b55381df",
   "metadata": {},
   "outputs": [],
   "source": [
    "# Set is heterogeneous\n",
    "# Set uses curly brackets\n",
    "# Set is mutable\n",
    "# Set elements can't be retrived using index\n",
    "# In Set no meaning of index\n",
    "#Set does no allow duplicates\n",
    "# set is in sotred form\n",
    "# Set can add or delete element by using -- add or remove command"
   ]
  },
  {
   "cell_type": "markdown",
   "id": "77f5070e",
   "metadata": {},
   "source": [
    "# Dictionary"
   ]
  },
  {
   "cell_type": "code",
   "execution_count": 1,
   "id": "a9f80121",
   "metadata": {},
   "outputs": [
    {
     "data": {
      "text/plain": [
       "{'a': 'Third', 1: 'Second', 6: 'Second', 5: 7}"
      ]
     },
     "execution_count": 1,
     "metadata": {},
     "output_type": "execute_result"
    }
   ],
   "source": [
    "sample_dict={\"a\":\"First\",1:\"Second\",\"a\":\"Third\",6:\"Second\",5:7}\n",
    "sample_dict"
   ]
  },
  {
   "cell_type": "code",
   "execution_count": 2,
   "id": "2b8c1a38",
   "metadata": {},
   "outputs": [],
   "source": [
    "# Dictionary has key-va;ue pair with data structure\n",
    "# In input of sample_dict, keys- a,1,6,5 and values- First,Second,Third,7\n",
    "# Key is unique but values can be duplicated"
   ]
  },
  {
   "cell_type": "code",
   "execution_count": 3,
   "id": "43b640c5",
   "metadata": {},
   "outputs": [
    {
     "data": {
      "text/plain": [
       "'Second'"
      ]
     },
     "execution_count": 3,
     "metadata": {},
     "output_type": "execute_result"
    }
   ],
   "source": [
    "sample_dict[6]"
   ]
  },
  {
   "cell_type": "code",
   "execution_count": 4,
   "id": "5be6482a",
   "metadata": {},
   "outputs": [
    {
     "ename": "KeyError",
     "evalue": "'Second'",
     "output_type": "error",
     "traceback": [
      "\u001b[1;31m---------------------------------------------------------------------------\u001b[0m",
      "\u001b[1;31mKeyError\u001b[0m                                  Traceback (most recent call last)",
      "Input \u001b[1;32mIn [4]\u001b[0m, in \u001b[0;36m<cell line: 1>\u001b[1;34m()\u001b[0m\n\u001b[1;32m----> 1\u001b[0m \u001b[43msample_dict\u001b[49m\u001b[43m[\u001b[49m\u001b[38;5;124;43m\"\u001b[39;49m\u001b[38;5;124;43mSecond\u001b[39;49m\u001b[38;5;124;43m\"\u001b[39;49m\u001b[43m]\u001b[49m\n",
      "\u001b[1;31mKeyError\u001b[0m: 'Second'"
     ]
    }
   ],
   "source": [
    "sample_dict[\"Second\"]"
   ]
  },
  {
   "cell_type": "code",
   "execution_count": 5,
   "id": "89bcaaa3",
   "metadata": {},
   "outputs": [],
   "source": [
    "#we can retrieve value using key but not using value "
   ]
  },
  {
   "cell_type": "code",
   "execution_count": 6,
   "id": "73321183",
   "metadata": {},
   "outputs": [
    {
     "data": {
      "text/plain": [
       "{'a': 'Third', 1: 'Second', 6: 'Second', 5: 100}"
      ]
     },
     "execution_count": 6,
     "metadata": {},
     "output_type": "execute_result"
    }
   ],
   "source": [
    "sample_dict[5]=100\n",
    "sample_dict"
   ]
  },
  {
   "cell_type": "code",
   "execution_count": null,
   "id": "682350f6",
   "metadata": {},
   "outputs": [],
   "source": [
    "#Dictionary is mutable"
   ]
  }
 ],
 "metadata": {
  "kernelspec": {
   "display_name": "Python 3 (ipykernel)",
   "language": "python",
   "name": "python3"
  },
  "language_info": {
   "codemirror_mode": {
    "name": "ipython",
    "version": 3
   },
   "file_extension": ".py",
   "mimetype": "text/x-python",
   "name": "python",
   "nbconvert_exporter": "python",
   "pygments_lexer": "ipython3",
   "version": "3.9.12"
  }
 },
 "nbformat": 4,
 "nbformat_minor": 5
}
